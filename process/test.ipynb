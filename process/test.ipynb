{
 "cells": [
  {
   "cell_type": "code",
   "execution_count": 1,
   "metadata": {},
   "outputs": [
    {
     "data": {
      "text/plain": [
       "{'code': 0,\n",
       " 'msg': 'ok',\n",
       " 'data': {'data': {'id': '1000',\n",
       "   'appointment_status': '1',\n",
       "   'student_id': '100',\n",
       "   'campus_id': '1',\n",
       "   'stadium_id': '1',\n",
       "   'person_sid': '18666510',\n",
       "   'person_name': '余淼淼',\n",
       "   'person_pic': 'http://rlzc.tongji.edu.cn/Public/Uploads/face/18666510/15937625709033.jpg',\n",
       "   'person_type': '教职工',\n",
       "   'reason': '。',\n",
       "   'stadium_location_id': '12',\n",
       "   'stadium_item_id': '1',\n",
       "   'status': '2',\n",
       "   'date_start': '2020/10/04',\n",
       "   'time_start': '13:00',\n",
       "   'time_end': '14:00',\n",
       "   'price': '0元/小时',\n",
       "   'is_delete': '1',\n",
       "   'path': ['https://gym.tongji.edu.cn/tupian/public/storage/stadium_location/20200909/5f582c8d99f4b.jpg'],\n",
       "   'campus_name': '四平校区',\n",
       "   'address': '四平校区',\n",
       "   'cancel_status_name': '可以',\n",
       "   'appointment_type': '同行',\n",
       "   'cancel_status': '1',\n",
       "   'stadium_name': '一·二九训练馆',\n",
       "   'stadium_location_name': '129羽毛球01号场地',\n",
       "   'stadium_item_name': '羽毛球',\n",
       "   'appointment_together_list': [{'person_sid': '',\n",
       "     'person_name': '暂无数据',\n",
       "     'person_pic': ''}],\n",
       "   'status_name': '已取消',\n",
       "   'next_status_name': '已取消',\n",
       "   'date_name': '2020/10/04 13:00-14:00'}}}"
      ]
     },
     "execution_count": 1,
     "metadata": {},
     "output_type": "execute_result"
    }
   ],
   "source": [
    "import requests\n",
    "url=\"https://gym.tongji.edu.cn/forwarding/stadiumApi/pc/getAppointmentInfo\"\n",
    "authorization=\"f80d2ccee8719548db4118fe3bb43f88\"\n",
    "headers={\"Authorization\":authorization,\n",
    "        \"User-Agent\":\"Mozilla/5.0 (Windows NT 10.0; Win64; x64) AppleWebKit/537.36 (KHTML, like Gecko) Chrome/116.0.0.0 Safari/537.36\"        \n",
    "        }\n",
    "\n",
    "data={\"appointment_id\":1000}\n",
    "\n",
    "response=requests.post(url=url,headers=headers,data=data)\n",
    "response.json()\n"
   ]
  },
  {
   "cell_type": "code",
   "execution_count": 7,
   "metadata": {},
   "outputs": [
    {
     "name": "stdout",
     "output_type": "stream",
     "text": [
      "{\"code\":0,\"msg\":\"\\u64cd\\u4f5c\\u6210\\u529f\",\"data\":[]}\n"
     ]
    }
   ],
   "source": [
    "import requests\n",
    "url=\"https://gym.tongji.edu.cn/forwarding/stadiumApi/pc/AppointmentOperation\"\n",
    "authorization=\"e482bc051f98b81b421f873ef8713e1f\"\n",
    "headers={\"Authorization\":authorization,\n",
    "        \"User-Agent\":\"Mozilla/5.0 (Windows NT 10.0; Win64; x64) AppleWebKit/537.36 (KHTML, like Gecko) Chrome/116.0.0.0 Safari/537.36\"        \n",
    "        }\n",
    "\n",
    "data={\"appointment_id\": 266416,\n",
    "      \"Status\": 2}\n",
    "\n",
    "response=requests.post(url=url,headers=headers,data=data)\n",
    "print(response.text)\n"
   ]
  },
  {
   "cell_type": "code",
   "execution_count": 5,
   "metadata": {},
   "outputs": [
    {
     "name": "stdout",
     "output_type": "stream",
     "text": [
      "{\"code\":0,\"msg\":\"ok\",\"data\":{\"data\":[{\"day\":\"25\",\"date\":\"2023\\/12\\/25\",\"week\":\"\\u661f\\u671f\\u4e00\",\"num\":\"0\",\"list\":[]},{\"day\":\"26\",\"date\":\"2023\\/12\\/26\",\"week\":\"\\u661f\\u671f\\u4e8c\",\"num\":\"0\",\"list\":[]},{\"day\":\"27\",\"date\":\"2023\\/12\\/27\",\"week\":\"\\u661f\\u671f\\u4e09\",\"num\":\"0\",\"list\":[]},{\"day\":\"28\",\"date\":\"2023\\/12\\/28\",\"week\":\"\\u661f\\u671f\\u56db\",\"num\":\"1\",\"list\":[{\"id\":\"266416\",\"person_sid\":\"2154016\",\"person_name\":\"\\u6c99\\u6728\\u54c8\\u5c14\\u00b7\\u963f\\u543e\\u68ee\",\"date_start\":\"2023\\/12\\/28\",\"time_start\":\"20:00\",\"time_end\":\"21:00\",\"appointment_status\":\"1\",\"campus_id\":\"2\",\"student_id\":\"24960\",\"stadium_id\":\"8\",\"stadium_location_id\":\"55\",\"stadium_item_id\":\"1\",\"status\":\"2\",\"price\":\"0\\u5143\\/\\u5c0f\\u65f6\",\"is_delete\":\"0\",\"campus_name\":\"\\u5609\\u5b9a\\u6821\\u533a\",\"stadium_name\":\"\\u5609\\u5b9a\\u4f53\\u80b2\\u4e2d\\u5fc3\\u7fbd\\u6bdb\\u7403\\u9986\",\"stadium_location_name\":\"\\u5609\\u5b9a\\u4f53\\u80b2\\u4e2d\\u5fc3\\u7fbd\\u6bdb\\u7403\\u573a\\u57303\",\"stadium_item_name\":\"\\u7fbd\\u6bdb\\u7403\",\"appointment_type\":\"\\u4e2a\\u4eba\",\"status_name\":\"\\u672a\\u8fdb\\u573a\",\"next_status_name\":\"\\u53d6\\u6d88\",\"date_name\":\"20:00-21:00\"}]},{\"day\":\"29\",\"date\":\"2023\\/12\\/29\",\"week\":\"\\u661f\\u671f\\u4e94\",\"num\":\"0\",\"list\":[]},{\"day\":\"30\",\"date\":\"2023\\/12\\/30\",\"week\":\"\\u661f\\u671f\\u516d\",\"num\":\"0\",\"list\":[]},{\"day\":\"31\",\"date\":\"2023\\/12\\/31\",\"week\":\"\\u661f\\u671f\\u65e5\",\"num\":\"0\",\"list\":[]}]}}\n"
     ]
    }
   ],
   "source": [
    "import requests\n",
    "url=\"https://gym.tongji.edu.cn/forwarding/stadiumApi/pc/getWeekAppointmentList\"\n",
    "authorization=\"e482bc051f98b81b421f873ef8713e1f\"\n",
    "headers={\"Authorization\":authorization,\n",
    "        \"User-Agent\":\"Mozilla/5.0 (Windows NT 10.0; Win64; x64) AppleWebKit/537.36 (KHTML, like Gecko) Chrome/116.0.0.0 Safari/537.36\"        \n",
    "        }\n",
    "\n",
    "data={\"date_start\": \"2023/12/25\"}\n",
    "\n",
    "response=requests.post(url=url,headers=headers,data=data)\n",
    "print(response.text)\n"
   ]
  },
  {
   "cell_type": "code",
   "execution_count": 2,
   "metadata": {},
   "outputs": [
    {
     "ename": "ConnectError",
     "evalue": "[Errno 11001] getaddrinfo failed",
     "output_type": "error",
     "traceback": [
      "\u001b[1;31m---------------------------------------------------------------------------\u001b[0m",
      "\u001b[1;31mgaierror\u001b[0m                                  Traceback (most recent call last)",
      "File \u001b[1;32md:\\Anaconda\\envs\\Reptile\\lib\\site-packages\\httpcore\\_exceptions.py:10\u001b[0m, in \u001b[0;36mmap_exceptions\u001b[1;34m(map)\u001b[0m\n\u001b[0;32m      9\u001b[0m \u001b[39mtry\u001b[39;00m:\n\u001b[1;32m---> 10\u001b[0m     \u001b[39myield\u001b[39;00m\n\u001b[0;32m     11\u001b[0m \u001b[39mexcept\u001b[39;00m \u001b[39mException\u001b[39;00m \u001b[39mas\u001b[39;00m exc:  \u001b[39m# noqa: PIE786\u001b[39;00m\n",
      "File \u001b[1;32md:\\Anaconda\\envs\\Reptile\\lib\\site-packages\\httpcore\\_backends\\sync.py:212\u001b[0m, in \u001b[0;36mSyncBackend.connect_tcp\u001b[1;34m(self, host, port, timeout, local_address, socket_options)\u001b[0m\n\u001b[0;32m    211\u001b[0m \u001b[39mwith\u001b[39;00m map_exceptions(exc_map):\n\u001b[1;32m--> 212\u001b[0m     sock \u001b[39m=\u001b[39m socket\u001b[39m.\u001b[39;49mcreate_connection(\n\u001b[0;32m    213\u001b[0m         address,\n\u001b[0;32m    214\u001b[0m         timeout,\n\u001b[0;32m    215\u001b[0m         source_address\u001b[39m=\u001b[39;49msource_address,\n\u001b[0;32m    216\u001b[0m     )\n\u001b[0;32m    217\u001b[0m     \u001b[39mfor\u001b[39;00m option \u001b[39min\u001b[39;00m socket_options:\n",
      "File \u001b[1;32md:\\Anaconda\\envs\\Reptile\\lib\\socket.py:824\u001b[0m, in \u001b[0;36mcreate_connection\u001b[1;34m(address, timeout, source_address)\u001b[0m\n\u001b[0;32m    823\u001b[0m err \u001b[39m=\u001b[39m \u001b[39mNone\u001b[39;00m\n\u001b[1;32m--> 824\u001b[0m \u001b[39mfor\u001b[39;00m res \u001b[39min\u001b[39;00m getaddrinfo(host, port, \u001b[39m0\u001b[39;49m, SOCK_STREAM):\n\u001b[0;32m    825\u001b[0m     af, socktype, proto, canonname, sa \u001b[39m=\u001b[39m res\n",
      "File \u001b[1;32md:\\Anaconda\\envs\\Reptile\\lib\\socket.py:955\u001b[0m, in \u001b[0;36mgetaddrinfo\u001b[1;34m(host, port, family, type, proto, flags)\u001b[0m\n\u001b[0;32m    954\u001b[0m addrlist \u001b[39m=\u001b[39m []\n\u001b[1;32m--> 955\u001b[0m \u001b[39mfor\u001b[39;00m res \u001b[39min\u001b[39;00m _socket\u001b[39m.\u001b[39;49mgetaddrinfo(host, port, family, \u001b[39mtype\u001b[39;49m, proto, flags):\n\u001b[0;32m    956\u001b[0m     af, socktype, proto, canonname, sa \u001b[39m=\u001b[39m res\n",
      "\u001b[1;31mgaierror\u001b[0m: [Errno 11001] getaddrinfo failed",
      "\nThe above exception was the direct cause of the following exception:\n",
      "\u001b[1;31mConnectError\u001b[0m                              Traceback (most recent call last)",
      "File \u001b[1;32md:\\Anaconda\\envs\\Reptile\\lib\\site-packages\\httpx\\_transports\\default.py:66\u001b[0m, in \u001b[0;36mmap_httpcore_exceptions\u001b[1;34m()\u001b[0m\n\u001b[0;32m     65\u001b[0m \u001b[39mtry\u001b[39;00m:\n\u001b[1;32m---> 66\u001b[0m     \u001b[39myield\u001b[39;00m\n\u001b[0;32m     67\u001b[0m \u001b[39mexcept\u001b[39;00m \u001b[39mException\u001b[39;00m \u001b[39mas\u001b[39;00m exc:  \u001b[39m# noqa: PIE-786\u001b[39;00m\n",
      "File \u001b[1;32md:\\Anaconda\\envs\\Reptile\\lib\\site-packages\\httpx\\_transports\\default.py:228\u001b[0m, in \u001b[0;36mHTTPTransport.handle_request\u001b[1;34m(self, request)\u001b[0m\n\u001b[0;32m    227\u001b[0m \u001b[39mwith\u001b[39;00m map_httpcore_exceptions():\n\u001b[1;32m--> 228\u001b[0m     resp \u001b[39m=\u001b[39m \u001b[39mself\u001b[39;49m\u001b[39m.\u001b[39;49m_pool\u001b[39m.\u001b[39;49mhandle_request(req)\n\u001b[0;32m    230\u001b[0m \u001b[39massert\u001b[39;00m \u001b[39misinstance\u001b[39m(resp\u001b[39m.\u001b[39mstream, typing\u001b[39m.\u001b[39mIterable)\n",
      "File \u001b[1;32md:\\Anaconda\\envs\\Reptile\\lib\\site-packages\\httpcore\\_sync\\connection_pool.py:262\u001b[0m, in \u001b[0;36mConnectionPool.handle_request\u001b[1;34m(self, request)\u001b[0m\n\u001b[0;32m    261\u001b[0m         \u001b[39mself\u001b[39m\u001b[39m.\u001b[39mresponse_closed(status)\n\u001b[1;32m--> 262\u001b[0m     \u001b[39mraise\u001b[39;00m exc\n\u001b[0;32m    263\u001b[0m \u001b[39melse\u001b[39;00m:\n",
      "File \u001b[1;32md:\\Anaconda\\envs\\Reptile\\lib\\site-packages\\httpcore\\_sync\\connection_pool.py:245\u001b[0m, in \u001b[0;36mConnectionPool.handle_request\u001b[1;34m(self, request)\u001b[0m\n\u001b[0;32m    244\u001b[0m \u001b[39mtry\u001b[39;00m:\n\u001b[1;32m--> 245\u001b[0m     response \u001b[39m=\u001b[39m connection\u001b[39m.\u001b[39;49mhandle_request(request)\n\u001b[0;32m    246\u001b[0m \u001b[39mexcept\u001b[39;00m ConnectionNotAvailable:\n\u001b[0;32m    247\u001b[0m     \u001b[39m# The ConnectionNotAvailable exception is a special case, that\u001b[39;00m\n\u001b[0;32m    248\u001b[0m     \u001b[39m# indicates we need to retry the request on a new connection.\u001b[39;00m\n\u001b[1;32m   (...)\u001b[0m\n\u001b[0;32m    252\u001b[0m     \u001b[39m# might end up as an HTTP/2 connection, but which actually ends\u001b[39;00m\n\u001b[0;32m    253\u001b[0m     \u001b[39m# up as HTTP/1.1.\u001b[39;00m\n",
      "File \u001b[1;32md:\\Anaconda\\envs\\Reptile\\lib\\site-packages\\httpcore\\_sync\\connection.py:99\u001b[0m, in \u001b[0;36mHTTPConnection.handle_request\u001b[1;34m(self, request)\u001b[0m\n\u001b[0;32m     98\u001b[0m         \u001b[39mself\u001b[39m\u001b[39m.\u001b[39m_connect_failed \u001b[39m=\u001b[39m \u001b[39mTrue\u001b[39;00m\n\u001b[1;32m---> 99\u001b[0m         \u001b[39mraise\u001b[39;00m exc\n\u001b[0;32m    100\u001b[0m \u001b[39melif\u001b[39;00m \u001b[39mnot\u001b[39;00m \u001b[39mself\u001b[39m\u001b[39m.\u001b[39m_connection\u001b[39m.\u001b[39mis_available():\n",
      "File \u001b[1;32md:\\Anaconda\\envs\\Reptile\\lib\\site-packages\\httpcore\\_sync\\connection.py:76\u001b[0m, in \u001b[0;36mHTTPConnection.handle_request\u001b[1;34m(self, request)\u001b[0m\n\u001b[0;32m     75\u001b[0m \u001b[39mtry\u001b[39;00m:\n\u001b[1;32m---> 76\u001b[0m     stream \u001b[39m=\u001b[39m \u001b[39mself\u001b[39;49m\u001b[39m.\u001b[39;49m_connect(request)\n\u001b[0;32m     78\u001b[0m     ssl_object \u001b[39m=\u001b[39m stream\u001b[39m.\u001b[39mget_extra_info(\u001b[39m\"\u001b[39m\u001b[39mssl_object\u001b[39m\u001b[39m\"\u001b[39m)\n",
      "File \u001b[1;32md:\\Anaconda\\envs\\Reptile\\lib\\site-packages\\httpcore\\_sync\\connection.py:124\u001b[0m, in \u001b[0;36mHTTPConnection._connect\u001b[1;34m(self, request)\u001b[0m\n\u001b[0;32m    123\u001b[0m \u001b[39mwith\u001b[39;00m Trace(\u001b[39m\"\u001b[39m\u001b[39mconnect_tcp\u001b[39m\u001b[39m\"\u001b[39m, logger, request, kwargs) \u001b[39mas\u001b[39;00m trace:\n\u001b[1;32m--> 124\u001b[0m     stream \u001b[39m=\u001b[39m \u001b[39mself\u001b[39m\u001b[39m.\u001b[39m_network_backend\u001b[39m.\u001b[39mconnect_tcp(\u001b[39m*\u001b[39m\u001b[39m*\u001b[39mkwargs)\n\u001b[0;32m    125\u001b[0m     trace\u001b[39m.\u001b[39mreturn_value \u001b[39m=\u001b[39m stream\n",
      "File \u001b[1;32md:\\Anaconda\\envs\\Reptile\\lib\\site-packages\\httpcore\\_backends\\sync.py:211\u001b[0m, in \u001b[0;36mSyncBackend.connect_tcp\u001b[1;34m(self, host, port, timeout, local_address, socket_options)\u001b[0m\n\u001b[0;32m    206\u001b[0m exc_map: ExceptionMapping \u001b[39m=\u001b[39m {\n\u001b[0;32m    207\u001b[0m     socket\u001b[39m.\u001b[39mtimeout: ConnectTimeout,\n\u001b[0;32m    208\u001b[0m     \u001b[39mOSError\u001b[39;00m: ConnectError,\n\u001b[0;32m    209\u001b[0m }\n\u001b[1;32m--> 211\u001b[0m \u001b[39mwith\u001b[39;00m map_exceptions(exc_map):\n\u001b[0;32m    212\u001b[0m     sock \u001b[39m=\u001b[39m socket\u001b[39m.\u001b[39mcreate_connection(\n\u001b[0;32m    213\u001b[0m         address,\n\u001b[0;32m    214\u001b[0m         timeout,\n\u001b[0;32m    215\u001b[0m         source_address\u001b[39m=\u001b[39msource_address,\n\u001b[0;32m    216\u001b[0m     )\n",
      "File \u001b[1;32md:\\Anaconda\\envs\\Reptile\\lib\\contextlib.py:153\u001b[0m, in \u001b[0;36m_GeneratorContextManager.__exit__\u001b[1;34m(self, typ, value, traceback)\u001b[0m\n\u001b[0;32m    152\u001b[0m \u001b[39mtry\u001b[39;00m:\n\u001b[1;32m--> 153\u001b[0m     \u001b[39mself\u001b[39;49m\u001b[39m.\u001b[39;49mgen\u001b[39m.\u001b[39;49mthrow(typ, value, traceback)\n\u001b[0;32m    154\u001b[0m \u001b[39mexcept\u001b[39;00m \u001b[39mStopIteration\u001b[39;00m \u001b[39mas\u001b[39;00m exc:\n\u001b[0;32m    155\u001b[0m     \u001b[39m# Suppress StopIteration *unless* it's the same exception that\u001b[39;00m\n\u001b[0;32m    156\u001b[0m     \u001b[39m# was passed to throw().  This prevents a StopIteration\u001b[39;00m\n\u001b[0;32m    157\u001b[0m     \u001b[39m# raised inside the \"with\" statement from being suppressed.\u001b[39;00m\n",
      "File \u001b[1;32md:\\Anaconda\\envs\\Reptile\\lib\\site-packages\\httpcore\\_exceptions.py:14\u001b[0m, in \u001b[0;36mmap_exceptions\u001b[1;34m(map)\u001b[0m\n\u001b[0;32m     13\u001b[0m     \u001b[39mif\u001b[39;00m \u001b[39misinstance\u001b[39m(exc, from_exc):\n\u001b[1;32m---> 14\u001b[0m         \u001b[39mraise\u001b[39;00m to_exc(exc) \u001b[39mfrom\u001b[39;00m \u001b[39mexc\u001b[39;00m\n\u001b[0;32m     15\u001b[0m \u001b[39mraise\u001b[39;00m\n",
      "\u001b[1;31mConnectError\u001b[0m: [Errno 11001] getaddrinfo failed",
      "\nThe above exception was the direct cause of the following exception:\n",
      "\u001b[1;31mConnectError\u001b[0m                              Traceback (most recent call last)",
      "\u001b[1;32md:\\DataWareHouse\\process\\test.ipynb 单元格 4\u001b[0m line \u001b[0;36m8\n\u001b[0;32m      <a href='vscode-notebook-cell:/d%3A/DataWareHouse/process/test.ipynb#X10sZmlsZQ%3D%3D?line=1'>2</a>\u001b[0m url\u001b[39m=\u001b[39m\u001b[39m\"\u001b[39m\u001b[39mhttps://captcha.anji-plus.com/captcha-api/getCaptcha=1\u001b[39m\u001b[39m\"\u001b[39m\n\u001b[0;32m      <a href='vscode-notebook-cell:/d%3A/DataWareHouse/process/test.ipynb#X10sZmlsZQ%3D%3D?line=3'>4</a>\u001b[0m headers\u001b[39m=\u001b[39m{\n\u001b[0;32m      <a href='vscode-notebook-cell:/d%3A/DataWareHouse/process/test.ipynb#X10sZmlsZQ%3D%3D?line=4'>5</a>\u001b[0m         \u001b[39m\"\u001b[39m\u001b[39mUser-Agent\u001b[39m\u001b[39m\"\u001b[39m:\u001b[39m\"\u001b[39m\u001b[39mMozilla/5.0 (Windows NT 10.0; Win64; x64) AppleWebKit/537.36 (KHTML, like Gecko) Chrome/116.0.0.0 Safari/537.36\u001b[39m\u001b[39m\"\u001b[39m        \n\u001b[0;32m      <a href='vscode-notebook-cell:/d%3A/DataWareHouse/process/test.ipynb#X10sZmlsZQ%3D%3D?line=5'>6</a>\u001b[0m         }\n\u001b[1;32m----> <a href='vscode-notebook-cell:/d%3A/DataWareHouse/process/test.ipynb#X10sZmlsZQ%3D%3D?line=7'>8</a>\u001b[0m response\u001b[39m=\u001b[39mhttpx\u001b[39m.\u001b[39;49mpost(url\u001b[39m=\u001b[39;49murl,headers\u001b[39m=\u001b[39;49mheaders)\n\u001b[0;32m      <a href='vscode-notebook-cell:/d%3A/DataWareHouse/process/test.ipynb#X10sZmlsZQ%3D%3D?line=8'>9</a>\u001b[0m response\u001b[39m.\u001b[39mstatus_code\n",
      "File \u001b[1;32md:\\Anaconda\\envs\\Reptile\\lib\\site-packages\\httpx\\_api.py:304\u001b[0m, in \u001b[0;36mpost\u001b[1;34m(url, content, data, files, json, params, headers, cookies, auth, proxies, follow_redirects, cert, verify, timeout, trust_env)\u001b[0m\n\u001b[0;32m    281\u001b[0m \u001b[39mdef\u001b[39;00m \u001b[39mpost\u001b[39m(\n\u001b[0;32m    282\u001b[0m     url: URLTypes,\n\u001b[0;32m    283\u001b[0m     \u001b[39m*\u001b[39m,\n\u001b[1;32m   (...)\u001b[0m\n\u001b[0;32m    297\u001b[0m     trust_env: \u001b[39mbool\u001b[39m \u001b[39m=\u001b[39m \u001b[39mTrue\u001b[39;00m,\n\u001b[0;32m    298\u001b[0m ) \u001b[39m-\u001b[39m\u001b[39m>\u001b[39m Response:\n\u001b[0;32m    299\u001b[0m \u001b[39m    \u001b[39m\u001b[39m\"\"\"\u001b[39;00m\n\u001b[0;32m    300\u001b[0m \u001b[39m    Sends a `POST` request.\u001b[39;00m\n\u001b[0;32m    301\u001b[0m \n\u001b[0;32m    302\u001b[0m \u001b[39m    **Parameters**: See `httpx.request`.\u001b[39;00m\n\u001b[0;32m    303\u001b[0m \u001b[39m    \"\"\"\u001b[39;00m\n\u001b[1;32m--> 304\u001b[0m     \u001b[39mreturn\u001b[39;00m request(\n\u001b[0;32m    305\u001b[0m         \u001b[39m\"\u001b[39;49m\u001b[39mPOST\u001b[39;49m\u001b[39m\"\u001b[39;49m,\n\u001b[0;32m    306\u001b[0m         url,\n\u001b[0;32m    307\u001b[0m         content\u001b[39m=\u001b[39;49mcontent,\n\u001b[0;32m    308\u001b[0m         data\u001b[39m=\u001b[39;49mdata,\n\u001b[0;32m    309\u001b[0m         files\u001b[39m=\u001b[39;49mfiles,\n\u001b[0;32m    310\u001b[0m         json\u001b[39m=\u001b[39;49mjson,\n\u001b[0;32m    311\u001b[0m         params\u001b[39m=\u001b[39;49mparams,\n\u001b[0;32m    312\u001b[0m         headers\u001b[39m=\u001b[39;49mheaders,\n\u001b[0;32m    313\u001b[0m         cookies\u001b[39m=\u001b[39;49mcookies,\n\u001b[0;32m    314\u001b[0m         auth\u001b[39m=\u001b[39;49mauth,\n\u001b[0;32m    315\u001b[0m         proxies\u001b[39m=\u001b[39;49mproxies,\n\u001b[0;32m    316\u001b[0m         follow_redirects\u001b[39m=\u001b[39;49mfollow_redirects,\n\u001b[0;32m    317\u001b[0m         cert\u001b[39m=\u001b[39;49mcert,\n\u001b[0;32m    318\u001b[0m         verify\u001b[39m=\u001b[39;49mverify,\n\u001b[0;32m    319\u001b[0m         timeout\u001b[39m=\u001b[39;49mtimeout,\n\u001b[0;32m    320\u001b[0m         trust_env\u001b[39m=\u001b[39;49mtrust_env,\n\u001b[0;32m    321\u001b[0m     )\n",
      "File \u001b[1;32md:\\Anaconda\\envs\\Reptile\\lib\\site-packages\\httpx\\_api.py:100\u001b[0m, in \u001b[0;36mrequest\u001b[1;34m(method, url, params, content, data, files, json, headers, cookies, auth, proxies, timeout, follow_redirects, verify, cert, trust_env)\u001b[0m\n\u001b[0;32m     42\u001b[0m \u001b[39m\u001b[39m\u001b[39m\"\"\"\u001b[39;00m\n\u001b[0;32m     43\u001b[0m \u001b[39mSends an HTTP request.\u001b[39;00m\n\u001b[0;32m     44\u001b[0m \n\u001b[1;32m   (...)\u001b[0m\n\u001b[0;32m     90\u001b[0m \u001b[39m```\u001b[39;00m\n\u001b[0;32m     91\u001b[0m \u001b[39m\"\"\"\u001b[39;00m\n\u001b[0;32m     92\u001b[0m \u001b[39mwith\u001b[39;00m Client(\n\u001b[0;32m     93\u001b[0m     cookies\u001b[39m=\u001b[39mcookies,\n\u001b[0;32m     94\u001b[0m     proxies\u001b[39m=\u001b[39mproxies,\n\u001b[1;32m   (...)\u001b[0m\n\u001b[0;32m     98\u001b[0m     trust_env\u001b[39m=\u001b[39mtrust_env,\n\u001b[0;32m     99\u001b[0m ) \u001b[39mas\u001b[39;00m client:\n\u001b[1;32m--> 100\u001b[0m     \u001b[39mreturn\u001b[39;00m client\u001b[39m.\u001b[39;49mrequest(\n\u001b[0;32m    101\u001b[0m         method\u001b[39m=\u001b[39;49mmethod,\n\u001b[0;32m    102\u001b[0m         url\u001b[39m=\u001b[39;49murl,\n\u001b[0;32m    103\u001b[0m         content\u001b[39m=\u001b[39;49mcontent,\n\u001b[0;32m    104\u001b[0m         data\u001b[39m=\u001b[39;49mdata,\n\u001b[0;32m    105\u001b[0m         files\u001b[39m=\u001b[39;49mfiles,\n\u001b[0;32m    106\u001b[0m         json\u001b[39m=\u001b[39;49mjson,\n\u001b[0;32m    107\u001b[0m         params\u001b[39m=\u001b[39;49mparams,\n\u001b[0;32m    108\u001b[0m         headers\u001b[39m=\u001b[39;49mheaders,\n\u001b[0;32m    109\u001b[0m         auth\u001b[39m=\u001b[39;49mauth,\n\u001b[0;32m    110\u001b[0m         follow_redirects\u001b[39m=\u001b[39;49mfollow_redirects,\n\u001b[0;32m    111\u001b[0m     )\n",
      "File \u001b[1;32md:\\Anaconda\\envs\\Reptile\\lib\\site-packages\\httpx\\_client.py:814\u001b[0m, in \u001b[0;36mClient.request\u001b[1;34m(self, method, url, content, data, files, json, params, headers, cookies, auth, follow_redirects, timeout, extensions)\u001b[0m\n\u001b[0;32m    799\u001b[0m     warnings\u001b[39m.\u001b[39mwarn(message, \u001b[39mDeprecationWarning\u001b[39;00m)\n\u001b[0;32m    801\u001b[0m request \u001b[39m=\u001b[39m \u001b[39mself\u001b[39m\u001b[39m.\u001b[39mbuild_request(\n\u001b[0;32m    802\u001b[0m     method\u001b[39m=\u001b[39mmethod,\n\u001b[0;32m    803\u001b[0m     url\u001b[39m=\u001b[39murl,\n\u001b[1;32m   (...)\u001b[0m\n\u001b[0;32m    812\u001b[0m     extensions\u001b[39m=\u001b[39mextensions,\n\u001b[0;32m    813\u001b[0m )\n\u001b[1;32m--> 814\u001b[0m \u001b[39mreturn\u001b[39;00m \u001b[39mself\u001b[39;49m\u001b[39m.\u001b[39;49msend(request, auth\u001b[39m=\u001b[39;49mauth, follow_redirects\u001b[39m=\u001b[39;49mfollow_redirects)\n",
      "File \u001b[1;32md:\\Anaconda\\envs\\Reptile\\lib\\site-packages\\httpx\\_client.py:901\u001b[0m, in \u001b[0;36mClient.send\u001b[1;34m(self, request, stream, auth, follow_redirects)\u001b[0m\n\u001b[0;32m    893\u001b[0m follow_redirects \u001b[39m=\u001b[39m (\n\u001b[0;32m    894\u001b[0m     \u001b[39mself\u001b[39m\u001b[39m.\u001b[39mfollow_redirects\n\u001b[0;32m    895\u001b[0m     \u001b[39mif\u001b[39;00m \u001b[39misinstance\u001b[39m(follow_redirects, UseClientDefault)\n\u001b[0;32m    896\u001b[0m     \u001b[39melse\u001b[39;00m follow_redirects\n\u001b[0;32m    897\u001b[0m )\n\u001b[0;32m    899\u001b[0m auth \u001b[39m=\u001b[39m \u001b[39mself\u001b[39m\u001b[39m.\u001b[39m_build_request_auth(request, auth)\n\u001b[1;32m--> 901\u001b[0m response \u001b[39m=\u001b[39m \u001b[39mself\u001b[39;49m\u001b[39m.\u001b[39;49m_send_handling_auth(\n\u001b[0;32m    902\u001b[0m     request,\n\u001b[0;32m    903\u001b[0m     auth\u001b[39m=\u001b[39;49mauth,\n\u001b[0;32m    904\u001b[0m     follow_redirects\u001b[39m=\u001b[39;49mfollow_redirects,\n\u001b[0;32m    905\u001b[0m     history\u001b[39m=\u001b[39;49m[],\n\u001b[0;32m    906\u001b[0m )\n\u001b[0;32m    907\u001b[0m \u001b[39mtry\u001b[39;00m:\n\u001b[0;32m    908\u001b[0m     \u001b[39mif\u001b[39;00m \u001b[39mnot\u001b[39;00m stream:\n",
      "File \u001b[1;32md:\\Anaconda\\envs\\Reptile\\lib\\site-packages\\httpx\\_client.py:929\u001b[0m, in \u001b[0;36mClient._send_handling_auth\u001b[1;34m(self, request, auth, follow_redirects, history)\u001b[0m\n\u001b[0;32m    926\u001b[0m request \u001b[39m=\u001b[39m \u001b[39mnext\u001b[39m(auth_flow)\n\u001b[0;32m    928\u001b[0m \u001b[39mwhile\u001b[39;00m \u001b[39mTrue\u001b[39;00m:\n\u001b[1;32m--> 929\u001b[0m     response \u001b[39m=\u001b[39m \u001b[39mself\u001b[39;49m\u001b[39m.\u001b[39;49m_send_handling_redirects(\n\u001b[0;32m    930\u001b[0m         request,\n\u001b[0;32m    931\u001b[0m         follow_redirects\u001b[39m=\u001b[39;49mfollow_redirects,\n\u001b[0;32m    932\u001b[0m         history\u001b[39m=\u001b[39;49mhistory,\n\u001b[0;32m    933\u001b[0m     )\n\u001b[0;32m    934\u001b[0m     \u001b[39mtry\u001b[39;00m:\n\u001b[0;32m    935\u001b[0m         \u001b[39mtry\u001b[39;00m:\n",
      "File \u001b[1;32md:\\Anaconda\\envs\\Reptile\\lib\\site-packages\\httpx\\_client.py:966\u001b[0m, in \u001b[0;36mClient._send_handling_redirects\u001b[1;34m(self, request, follow_redirects, history)\u001b[0m\n\u001b[0;32m    963\u001b[0m \u001b[39mfor\u001b[39;00m hook \u001b[39min\u001b[39;00m \u001b[39mself\u001b[39m\u001b[39m.\u001b[39m_event_hooks[\u001b[39m\"\u001b[39m\u001b[39mrequest\u001b[39m\u001b[39m\"\u001b[39m]:\n\u001b[0;32m    964\u001b[0m     hook(request)\n\u001b[1;32m--> 966\u001b[0m response \u001b[39m=\u001b[39m \u001b[39mself\u001b[39;49m\u001b[39m.\u001b[39;49m_send_single_request(request)\n\u001b[0;32m    967\u001b[0m \u001b[39mtry\u001b[39;00m:\n\u001b[0;32m    968\u001b[0m     \u001b[39mfor\u001b[39;00m hook \u001b[39min\u001b[39;00m \u001b[39mself\u001b[39m\u001b[39m.\u001b[39m_event_hooks[\u001b[39m\"\u001b[39m\u001b[39mresponse\u001b[39m\u001b[39m\"\u001b[39m]:\n",
      "File \u001b[1;32md:\\Anaconda\\envs\\Reptile\\lib\\site-packages\\httpx\\_client.py:1002\u001b[0m, in \u001b[0;36mClient._send_single_request\u001b[1;34m(self, request)\u001b[0m\n\u001b[0;32m    997\u001b[0m     \u001b[39mraise\u001b[39;00m \u001b[39mRuntimeError\u001b[39;00m(\n\u001b[0;32m    998\u001b[0m         \u001b[39m\"\u001b[39m\u001b[39mAttempted to send an async request with a sync Client instance.\u001b[39m\u001b[39m\"\u001b[39m\n\u001b[0;32m    999\u001b[0m     )\n\u001b[0;32m   1001\u001b[0m \u001b[39mwith\u001b[39;00m request_context(request\u001b[39m=\u001b[39mrequest):\n\u001b[1;32m-> 1002\u001b[0m     response \u001b[39m=\u001b[39m transport\u001b[39m.\u001b[39;49mhandle_request(request)\n\u001b[0;32m   1004\u001b[0m \u001b[39massert\u001b[39;00m \u001b[39misinstance\u001b[39m(response\u001b[39m.\u001b[39mstream, SyncByteStream)\n\u001b[0;32m   1006\u001b[0m response\u001b[39m.\u001b[39mrequest \u001b[39m=\u001b[39m request\n",
      "File \u001b[1;32md:\\Anaconda\\envs\\Reptile\\lib\\site-packages\\httpx\\_transports\\default.py:227\u001b[0m, in \u001b[0;36mHTTPTransport.handle_request\u001b[1;34m(self, request)\u001b[0m\n\u001b[0;32m    213\u001b[0m \u001b[39massert\u001b[39;00m \u001b[39misinstance\u001b[39m(request\u001b[39m.\u001b[39mstream, SyncByteStream)\n\u001b[0;32m    215\u001b[0m req \u001b[39m=\u001b[39m httpcore\u001b[39m.\u001b[39mRequest(\n\u001b[0;32m    216\u001b[0m     method\u001b[39m=\u001b[39mrequest\u001b[39m.\u001b[39mmethod,\n\u001b[0;32m    217\u001b[0m     url\u001b[39m=\u001b[39mhttpcore\u001b[39m.\u001b[39mURL(\n\u001b[1;32m   (...)\u001b[0m\n\u001b[0;32m    225\u001b[0m     extensions\u001b[39m=\u001b[39mrequest\u001b[39m.\u001b[39mextensions,\n\u001b[0;32m    226\u001b[0m )\n\u001b[1;32m--> 227\u001b[0m \u001b[39mwith\u001b[39;00m map_httpcore_exceptions():\n\u001b[0;32m    228\u001b[0m     resp \u001b[39m=\u001b[39m \u001b[39mself\u001b[39m\u001b[39m.\u001b[39m_pool\u001b[39m.\u001b[39mhandle_request(req)\n\u001b[0;32m    230\u001b[0m \u001b[39massert\u001b[39;00m \u001b[39misinstance\u001b[39m(resp\u001b[39m.\u001b[39mstream, typing\u001b[39m.\u001b[39mIterable)\n",
      "File \u001b[1;32md:\\Anaconda\\envs\\Reptile\\lib\\contextlib.py:153\u001b[0m, in \u001b[0;36m_GeneratorContextManager.__exit__\u001b[1;34m(self, typ, value, traceback)\u001b[0m\n\u001b[0;32m    151\u001b[0m     value \u001b[39m=\u001b[39m typ()\n\u001b[0;32m    152\u001b[0m \u001b[39mtry\u001b[39;00m:\n\u001b[1;32m--> 153\u001b[0m     \u001b[39mself\u001b[39;49m\u001b[39m.\u001b[39;49mgen\u001b[39m.\u001b[39;49mthrow(typ, value, traceback)\n\u001b[0;32m    154\u001b[0m \u001b[39mexcept\u001b[39;00m \u001b[39mStopIteration\u001b[39;00m \u001b[39mas\u001b[39;00m exc:\n\u001b[0;32m    155\u001b[0m     \u001b[39m# Suppress StopIteration *unless* it's the same exception that\u001b[39;00m\n\u001b[0;32m    156\u001b[0m     \u001b[39m# was passed to throw().  This prevents a StopIteration\u001b[39;00m\n\u001b[0;32m    157\u001b[0m     \u001b[39m# raised inside the \"with\" statement from being suppressed.\u001b[39;00m\n\u001b[0;32m    158\u001b[0m     \u001b[39mreturn\u001b[39;00m exc \u001b[39mis\u001b[39;00m \u001b[39mnot\u001b[39;00m value\n",
      "File \u001b[1;32md:\\Anaconda\\envs\\Reptile\\lib\\site-packages\\httpx\\_transports\\default.py:83\u001b[0m, in \u001b[0;36mmap_httpcore_exceptions\u001b[1;34m()\u001b[0m\n\u001b[0;32m     80\u001b[0m     \u001b[39mraise\u001b[39;00m\n\u001b[0;32m     82\u001b[0m message \u001b[39m=\u001b[39m \u001b[39mstr\u001b[39m(exc)\n\u001b[1;32m---> 83\u001b[0m \u001b[39mraise\u001b[39;00m mapped_exc(message) \u001b[39mfrom\u001b[39;00m \u001b[39mexc\u001b[39;00m\n",
      "\u001b[1;31mConnectError\u001b[0m: [Errno 11001] getaddrinfo failed"
     ]
    }
   ],
   "source": [
    "import httpx\n",
    "url=\"https://captcha.anji-plus.com/captcha-api/getCaptcha=1\"\n",
    "\n",
    "headers={\n",
    "        \"User-Agent\":\"Mozilla/5.0 (Windows NT 10.0; Win64; x64) AppleWebKit/537.36 (KHTML, like Gecko) Chrome/116.0.0.0 Safari/537.36\"        \n",
    "        }\n",
    "\n",
    "response=httpx.post(url=url,headers=headers)\n",
    "response.status_code"
   ]
  },
  {
   "cell_type": "code",
   "execution_count": 1,
   "metadata": {},
   "outputs": [
    {
     "name": "stdout",
     "output_type": "stream",
     "text": [
      "2023-11-19 21:41:04\n"
     ]
    }
   ],
   "source": [
    "import datetime\n",
    "\n",
    "timestamp = 1700401264005  # 毫秒级时间戳\n",
    "\n",
    "# 将时间戳转换为datetime对象\n",
    "dt = datetime.datetime.fromtimestamp(timestamp / 1000)\n",
    "\n",
    "# 使用strftime方法将datetime对象格式化为可读的时间表示\n",
    "formatted_time = dt.strftime(\"%Y-%m-%d %H:%M:%S\")\n",
    "\n",
    "print(formatted_time)\n"
   ]
  },
  {
   "cell_type": "code",
   "execution_count": 2,
   "metadata": {},
   "outputs": [
    {
     "data": {
      "text/html": [
       "<div>\n",
       "<style scoped>\n",
       "    .dataframe tbody tr th:only-of-type {\n",
       "        vertical-align: middle;\n",
       "    }\n",
       "\n",
       "    .dataframe tbody tr th {\n",
       "        vertical-align: top;\n",
       "    }\n",
       "\n",
       "    .dataframe thead th {\n",
       "        text-align: right;\n",
       "    }\n",
       "</style>\n",
       "<table border=\"1\" class=\"dataframe\">\n",
       "  <thead>\n",
       "    <tr style=\"text-align: right;\">\n",
       "      <th></th>\n",
       "      <th>productId</th>\n",
       "      <th>userId</th>\n",
       "      <th>profileName</th>\n",
       "      <th>helpfulness</th>\n",
       "      <th>score</th>\n",
       "      <th>time</th>\n",
       "      <th>summary</th>\n",
       "      <th>text</th>\n",
       "    </tr>\n",
       "  </thead>\n",
       "  <tbody>\n",
       "    <tr>\n",
       "      <th>0</th>\n",
       "      <td>B003AI2VGA</td>\n",
       "      <td>A141HP4LYPWMSR</td>\n",
       "      <td>Brian E. Erland \"Rainbow Sphinx\"</td>\n",
       "      <td>7/7</td>\n",
       "      <td>3.0</td>\n",
       "      <td>2007-06-25</td>\n",
       "      <td>\"There Is So Much Darkness Now ~ Come For The ...</td>\n",
       "      <td>Synopsis: On the daily trek from Juarez, Mexic...</td>\n",
       "    </tr>\n",
       "  </tbody>\n",
       "</table>\n",
       "</div>"
      ],
      "text/plain": [
       "    productId          userId                       profileName helpfulness  \\\n",
       "0  B003AI2VGA  A141HP4LYPWMSR  Brian E. Erland \"Rainbow Sphinx\"         7/7   \n",
       "\n",
       "   score        time                                            summary  \\\n",
       "0    3.0  2007-06-25  \"There Is So Much Darkness Now ~ Come For The ...   \n",
       "\n",
       "                                                text  \n",
       "0  Synopsis: On the daily trek from Juarez, Mexic...  "
      ]
     },
     "execution_count": 2,
     "metadata": {},
     "output_type": "execute_result"
    }
   ],
   "source": [
    "import pandas as pd\n",
    "\n",
    "pd.read_csv(\"../data/movies.csv\",index_col=0).head(1)"
   ]
  },
  {
   "cell_type": "code",
   "execution_count": 14,
   "metadata": {},
   "outputs": [
    {
     "data": {
      "text/html": [
       "<div>\n",
       "<style scoped>\n",
       "    .dataframe tbody tr th:only-of-type {\n",
       "        vertical-align: middle;\n",
       "    }\n",
       "\n",
       "    .dataframe tbody tr th {\n",
       "        vertical-align: top;\n",
       "    }\n",
       "\n",
       "    .dataframe thead th {\n",
       "        text-align: right;\n",
       "    }\n",
       "</style>\n",
       "<table border=\"1\" class=\"dataframe\">\n",
       "  <thead>\n",
       "    <tr style=\"text-align: right;\">\n",
       "      <th></th>\n",
       "      <th>asin</th>\n",
       "      <th>title</th>\n",
       "      <th>genre</th>\n",
       "      <th>release_date</th>\n",
       "      <th>actor</th>\n",
       "      <th>director</th>\n",
       "      <th>format</th>\n",
       "      <th>run_time</th>\n",
       "      <th>language</th>\n",
       "    </tr>\n",
       "  </thead>\n",
       "  <tbody>\n",
       "    <tr>\n",
       "      <th>0</th>\n",
       "      <td>B00001MXWP</td>\n",
       "      <td>Sideshow:Alive on the Inside</td>\n",
       "      <td>[]</td>\n",
       "      <td>1999-09-21</td>\n",
       "      <td>[Sideshow-Alive on the Inside]</td>\n",
       "      <td>[]</td>\n",
       "      <td>[Color,  Black &amp; White,  HiFi Sound,  NTSC]</td>\n",
       "      <td>105</td>\n",
       "      <td>[]</td>\n",
       "    </tr>\n",
       "  </tbody>\n",
       "</table>\n",
       "</div>"
      ],
      "text/plain": [
       "         asin                         title genre release_date  \\\n",
       "0  B00001MXWP  Sideshow:Alive on the Inside    []   1999-09-21   \n",
       "\n",
       "                            actor director  \\\n",
       "0  [Sideshow-Alive on the Inside]       []   \n",
       "\n",
       "                                        format  run_time language  \n",
       "0  [Color,  Black & White,  HiFi Sound,  NTSC]       105       []  "
      ]
     },
     "execution_count": 14,
     "metadata": {},
     "output_type": "execute_result"
    }
   ],
   "source": [
    "import ast\n",
    "converters={'genre': ast.literal_eval,\n",
    "            'actor': ast.literal_eval,\n",
    "            'director': ast.literal_eval,\n",
    "            'format': ast.literal_eval,\n",
    "            'language': ast.literal_eval,}\n",
    "df=pd.read_csv(\"../data/movies-after-merge.csv\",index_col=0,converters=converters).head(1)\n",
    "df\n"
   ]
  }
 ],
 "metadata": {
  "kernelspec": {
   "display_name": "Reptile",
   "language": "python",
   "name": "python3"
  },
  "language_info": {
   "codemirror_mode": {
    "name": "ipython",
    "version": 3
   },
   "file_extension": ".py",
   "mimetype": "text/x-python",
   "name": "python",
   "nbconvert_exporter": "python",
   "pygments_lexer": "ipython3",
   "version": "3.10.12"
  }
 },
 "nbformat": 4,
 "nbformat_minor": 2
}
